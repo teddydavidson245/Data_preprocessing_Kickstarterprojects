{
 "cells": [
  {
   "cell_type": "markdown",
   "metadata": {},
   "source": [
    "### Problem Statement:\n",
    "Kickstarter is a crowdfunding website where people can ask people to invest in various projects and concept products. They have provided data having different attributes of a project like its name, category, the currency of funding, deadline for crowdfunding, goal and raised amounts for funding, etc.\n",
    "\n",
    " \n",
    "\n",
    "### Attribute information:\n",
    "\n",
    "- id - project id\n",
    "- name - project name\n",
    "- subcategory - project subcategory\n",
    "- category - project category\n",
    "- currency - project currency\n",
    "- deadline - deadline for crowdfunding on Kickstarter\n",
    "- goal - goal amount in project currency\n",
    "- launched - launch date on Kickstarter\n",
    "- pledged - pledged (raised) amount in the project currency\n",
    "- state - project state\n",
    "- backers - count of backers\n",
    "- country - project country\n",
    "- usd_pledged_real - pledged (raised) amount in USD\n",
    "- usd_goal_real - goal amount in USD"
   ]
  },
  {
   "cell_type": "markdown",
   "metadata": {},
   "source": [
    "# Importing the libraries and loading the data"
   ]
  },
  {
   "cell_type": "code",
   "execution_count": 1,
   "metadata": {},
   "outputs": [],
   "source": [
    "import pandas as pd\n",
    "import numpy as np\n",
    "\n",
    "import matplotlib.pyplot as plt\n",
    "import seaborn as sns\n",
    "\n",
    "# Removes the limit from the number of displayed columns and rows.\n",
    "# This is so I can see the entire dataframe when I print it\n",
    "pd.set_option('display.max_columns', None)\n",
    "# pd.set_option('display.max_rows', None)\n",
    "pd.set_option('display.max_rows', 200)"
   ]
  },
  {
   "cell_type": "code",
   "execution_count": 2,
   "metadata": {
    "scrolled": true
   },
   "outputs": [
    {
     "name": "stdout",
     "output_type": "stream",
     "text": [
      "There are 378661 rows and 14 columns.\n"
     ]
    },
    {
     "data": {
      "text/html": [
       "<div>\n",
       "<style scoped>\n",
       "    .dataframe tbody tr th:only-of-type {\n",
       "        vertical-align: middle;\n",
       "    }\n",
       "\n",
       "    .dataframe tbody tr th {\n",
       "        vertical-align: top;\n",
       "    }\n",
       "\n",
       "    .dataframe thead th {\n",
       "        text-align: right;\n",
       "    }\n",
       "</style>\n",
       "<table border=\"1\" class=\"dataframe\">\n",
       "  <thead>\n",
       "    <tr style=\"text-align: right;\">\n",
       "      <th></th>\n",
       "      <th>ID</th>\n",
       "      <th>name</th>\n",
       "      <th>subcategory</th>\n",
       "      <th>category</th>\n",
       "      <th>currency</th>\n",
       "      <th>deadline</th>\n",
       "      <th>goal</th>\n",
       "      <th>launched</th>\n",
       "      <th>pledged</th>\n",
       "      <th>state</th>\n",
       "      <th>backers</th>\n",
       "      <th>country</th>\n",
       "      <th>usd_pledged_real</th>\n",
       "      <th>usd_goal_real</th>\n",
       "    </tr>\n",
       "  </thead>\n",
       "  <tbody>\n",
       "    <tr>\n",
       "      <th>99838</th>\n",
       "      <td>1506962323</td>\n",
       "      <td>2018 Comic Con/ Horror Con/ GMCC</td>\n",
       "      <td>Art</td>\n",
       "      <td>Art</td>\n",
       "      <td>USD</td>\n",
       "      <td>10-10-2017</td>\n",
       "      <td>600.0</td>\n",
       "      <td>31-08-2017 04:05</td>\n",
       "      <td>600.00</td>\n",
       "      <td>successful</td>\n",
       "      <td>4</td>\n",
       "      <td>US</td>\n",
       "      <td>600.00</td>\n",
       "      <td>600.0</td>\n",
       "    </tr>\n",
       "    <tr>\n",
       "      <th>15731</th>\n",
       "      <td>1079621785</td>\n",
       "      <td>Ixion's The Four Disgracers</td>\n",
       "      <td>Theater</td>\n",
       "      <td>Theater</td>\n",
       "      <td>USD</td>\n",
       "      <td>26-04-2014</td>\n",
       "      <td>3500.0</td>\n",
       "      <td>27-03-2014 20:21</td>\n",
       "      <td>2920.00</td>\n",
       "      <td>failed</td>\n",
       "      <td>54</td>\n",
       "      <td>US</td>\n",
       "      <td>2920.00</td>\n",
       "      <td>3500.0</td>\n",
       "    </tr>\n",
       "    <tr>\n",
       "      <th>339459</th>\n",
       "      <td>799118140</td>\n",
       "      <td>Irving Comics Inc. (Canceled)</td>\n",
       "      <td>Comics</td>\n",
       "      <td>Comics</td>\n",
       "      <td>USD</td>\n",
       "      <td>16-04-2015</td>\n",
       "      <td>10000.0</td>\n",
       "      <td>17-03-2015 20:58</td>\n",
       "      <td>75.00</td>\n",
       "      <td>canceled</td>\n",
       "      <td>1</td>\n",
       "      <td>US</td>\n",
       "      <td>75.00</td>\n",
       "      <td>10000.0</td>\n",
       "    </tr>\n",
       "    <tr>\n",
       "      <th>100211</th>\n",
       "      <td>1508896926</td>\n",
       "      <td>Breakaway</td>\n",
       "      <td>Shorts</td>\n",
       "      <td>Film &amp; Video</td>\n",
       "      <td>USD</td>\n",
       "      <td>17-10-2011</td>\n",
       "      <td>5000.0</td>\n",
       "      <td>16-09-2011 20:11</td>\n",
       "      <td>5365.00</td>\n",
       "      <td>successful</td>\n",
       "      <td>60</td>\n",
       "      <td>US</td>\n",
       "      <td>5365.00</td>\n",
       "      <td>5000.0</td>\n",
       "    </tr>\n",
       "    <tr>\n",
       "      <th>170820</th>\n",
       "      <td>1869016023</td>\n",
       "      <td>the Atomic Café Mobile</td>\n",
       "      <td>Drinks</td>\n",
       "      <td>Food</td>\n",
       "      <td>USD</td>\n",
       "      <td>19-06-2015</td>\n",
       "      <td>5000.0</td>\n",
       "      <td>20-05-2015 10:47</td>\n",
       "      <td>5111.06</td>\n",
       "      <td>successful</td>\n",
       "      <td>53</td>\n",
       "      <td>US</td>\n",
       "      <td>5111.06</td>\n",
       "      <td>5000.0</td>\n",
       "    </tr>\n",
       "  </tbody>\n",
       "</table>\n",
       "</div>"
      ],
      "text/plain": [
       "                ID                              name subcategory  \\\n",
       "99838   1506962323  2018 Comic Con/ Horror Con/ GMCC         Art   \n",
       "15731   1079621785       Ixion's The Four Disgracers     Theater   \n",
       "339459   799118140     Irving Comics Inc. (Canceled)      Comics   \n",
       "100211  1508896926                         Breakaway      Shorts   \n",
       "170820  1869016023            the Atomic Café Mobile      Drinks   \n",
       "\n",
       "            category currency    deadline     goal          launched  pledged  \\\n",
       "99838            Art      USD  10-10-2017    600.0  31-08-2017 04:05   600.00   \n",
       "15731        Theater      USD  26-04-2014   3500.0  27-03-2014 20:21  2920.00   \n",
       "339459        Comics      USD  16-04-2015  10000.0  17-03-2015 20:58    75.00   \n",
       "100211  Film & Video      USD  17-10-2011   5000.0  16-09-2011 20:11  5365.00   \n",
       "170820          Food      USD  19-06-2015   5000.0  20-05-2015 10:47  5111.06   \n",
       "\n",
       "             state  backers country  usd_pledged_real  usd_goal_real  \n",
       "99838   successful        4      US            600.00          600.0  \n",
       "15731       failed       54      US           2920.00         3500.0  \n",
       "339459    canceled        1      US             75.00        10000.0  \n",
       "100211  successful       60      US           5365.00         5000.0  \n",
       "170820  successful       53      US           5111.06         5000.0  "
      ]
     },
     "execution_count": 2,
     "metadata": {},
     "output_type": "execute_result"
    }
   ],
   "source": [
    "df = pd.read_csv(\"KickStarterProjects.csv\") #, index_col=0\n",
    "print(f'There are {df.shape[0]} rows and {df.shape[1]} columns.')  # f-string https://realpython.com/python-f-strings/\n",
    "\n",
    "# I'm now going to look at 5 random rows\n",
    "# I'm setting the random seed via np.random.seed so that\n",
    "# I get the same random results every time\n",
    "np.random.seed(1)\n",
    "df.sample(n=5)"
   ]
  },
  {
   "cell_type": "markdown",
   "metadata": {},
   "source": [
    "### Data Preprocessing\n",
    "\n",
    "**Creating a copy of the data (to avoid any unnecessary changes to the original dataset)**\n",
    "\n",
    "- Dropping some columns to make the dataset manageable"
   ]
  },
  {
   "cell_type": "code",
   "execution_count": 3,
   "metadata": {},
   "outputs": [
    {
     "data": {
      "text/plain": [
       "'There are 378661 rows and 12 columns.'"
      ]
     },
     "execution_count": 3,
     "metadata": {},
     "output_type": "execute_result"
    }
   ],
   "source": [
    "df1=df.copy()\n",
    "\n",
    "df1.drop([\"currency\",\"goal\"],axis=1,inplace=True)\n",
    "f'There are {df1.shape[0]} rows and {df1.shape[1]} columns.'"
   ]
  },
  {
   "cell_type": "markdown",
   "metadata": {},
   "source": [
    "### Checking for missing values and dropping affected rows (if necessary)"
   ]
  },
  {
   "cell_type": "code",
   "execution_count": 4,
   "metadata": {
    "scrolled": true
   },
   "outputs": [
    {
     "data": {
      "text/plain": [
       "name                4\n",
       "usd_goal_real       0\n",
       "usd_pledged_real    0\n",
       "country             0\n",
       "backers             0\n",
       "state               0\n",
       "pledged             0\n",
       "launched            0\n",
       "deadline            0\n",
       "category            0\n",
       "subcategory         0\n",
       "ID                  0\n",
       "dtype: int64"
      ]
     },
     "execution_count": 4,
     "metadata": {},
     "output_type": "execute_result"
    }
   ],
   "source": [
    "df1.isnull().sum().sort_values(ascending=False) #Gets the columns with the missing values, and number of missing values."
   ]
  },
  {
   "cell_type": "code",
   "execution_count": 5,
   "metadata": {},
   "outputs": [
    {
     "data": {
      "text/plain": [
       "usd_goal_real       0\n",
       "usd_pledged_real    0\n",
       "country             0\n",
       "backers             0\n",
       "state               0\n",
       "pledged             0\n",
       "launched            0\n",
       "deadline            0\n",
       "category            0\n",
       "subcategory         0\n",
       "name                0\n",
       "ID                  0\n",
       "dtype: int64"
      ]
     },
     "execution_count": 5,
     "metadata": {},
     "output_type": "execute_result"
    }
   ],
   "source": [
    "df1= df1.dropna() #drop ROWS with missing values\n",
    "df1.isnull().sum().sort_values(ascending=False)"
   ]
  },
  {
   "cell_type": "markdown",
   "metadata": {},
   "source": [
    "**Checking for different projects states and their frequency**"
   ]
  },
  {
   "cell_type": "code",
   "execution_count": 6,
   "metadata": {},
   "outputs": [
    {
     "data": {
      "text/plain": [
       "failed        197716\n",
       "successful    133956\n",
       "canceled       38779\n",
       "undefined       3562\n",
       "live            2799\n",
       "suspended       1845\n",
       "Name: state, dtype: int64"
      ]
     },
     "execution_count": 6,
     "metadata": {},
     "output_type": "execute_result"
    }
   ],
   "source": [
    "df1.state.value_counts().sort_values(ascending=False)"
   ]
  },
  {
   "cell_type": "markdown",
   "metadata": {},
   "source": [
    "### Summarizing the data and preliminary analysis"
   ]
  },
  {
   "cell_type": "code",
   "execution_count": 7,
   "metadata": {},
   "outputs": [
    {
     "data": {
      "text/html": [
       "<div>\n",
       "<style scoped>\n",
       "    .dataframe tbody tr th:only-of-type {\n",
       "        vertical-align: middle;\n",
       "    }\n",
       "\n",
       "    .dataframe tbody tr th {\n",
       "        vertical-align: top;\n",
       "    }\n",
       "\n",
       "    .dataframe thead th {\n",
       "        text-align: right;\n",
       "    }\n",
       "</style>\n",
       "<table border=\"1\" class=\"dataframe\">\n",
       "  <thead>\n",
       "    <tr style=\"text-align: right;\">\n",
       "      <th></th>\n",
       "      <th>ID</th>\n",
       "      <th>pledged</th>\n",
       "      <th>backers</th>\n",
       "      <th>usd_pledged_real</th>\n",
       "      <th>usd_goal_real</th>\n",
       "    </tr>\n",
       "  </thead>\n",
       "  <tbody>\n",
       "    <tr>\n",
       "      <th>count</th>\n",
       "      <td>3.786570e+05</td>\n",
       "      <td>3.786570e+05</td>\n",
       "      <td>378657.000000</td>\n",
       "      <td>3.786570e+05</td>\n",
       "      <td>3.786570e+05</td>\n",
       "    </tr>\n",
       "    <tr>\n",
       "      <th>mean</th>\n",
       "      <td>1.074732e+09</td>\n",
       "      <td>9.683080e+03</td>\n",
       "      <td>105.618544</td>\n",
       "      <td>9.059018e+03</td>\n",
       "      <td>4.545425e+04</td>\n",
       "    </tr>\n",
       "    <tr>\n",
       "      <th>std</th>\n",
       "      <td>6.190872e+08</td>\n",
       "      <td>9.563651e+04</td>\n",
       "      <td>907.189767</td>\n",
       "      <td>9.097382e+04</td>\n",
       "      <td>1.152956e+06</td>\n",
       "    </tr>\n",
       "    <tr>\n",
       "      <th>min</th>\n",
       "      <td>5.971000e+03</td>\n",
       "      <td>0.000000e+00</td>\n",
       "      <td>0.000000</td>\n",
       "      <td>0.000000e+00</td>\n",
       "      <td>1.000000e-02</td>\n",
       "    </tr>\n",
       "    <tr>\n",
       "      <th>25%</th>\n",
       "      <td>5.382499e+08</td>\n",
       "      <td>3.000000e+01</td>\n",
       "      <td>2.000000</td>\n",
       "      <td>3.100000e+01</td>\n",
       "      <td>2.000000e+03</td>\n",
       "    </tr>\n",
       "    <tr>\n",
       "      <th>50%</th>\n",
       "      <td>1.075276e+09</td>\n",
       "      <td>6.200000e+02</td>\n",
       "      <td>12.000000</td>\n",
       "      <td>6.243800e+02</td>\n",
       "      <td>5.500000e+03</td>\n",
       "    </tr>\n",
       "    <tr>\n",
       "      <th>75%</th>\n",
       "      <td>1.610149e+09</td>\n",
       "      <td>4.076000e+03</td>\n",
       "      <td>56.000000</td>\n",
       "      <td>4.050000e+03</td>\n",
       "      <td>1.550000e+04</td>\n",
       "    </tr>\n",
       "    <tr>\n",
       "      <th>max</th>\n",
       "      <td>2.147476e+09</td>\n",
       "      <td>2.033899e+07</td>\n",
       "      <td>219382.000000</td>\n",
       "      <td>2.033899e+07</td>\n",
       "      <td>1.663614e+08</td>\n",
       "    </tr>\n",
       "  </tbody>\n",
       "</table>\n",
       "</div>"
      ],
      "text/plain": [
       "                 ID       pledged        backers  usd_pledged_real  \\\n",
       "count  3.786570e+05  3.786570e+05  378657.000000      3.786570e+05   \n",
       "mean   1.074732e+09  9.683080e+03     105.618544      9.059018e+03   \n",
       "std    6.190872e+08  9.563651e+04     907.189767      9.097382e+04   \n",
       "min    5.971000e+03  0.000000e+00       0.000000      0.000000e+00   \n",
       "25%    5.382499e+08  3.000000e+01       2.000000      3.100000e+01   \n",
       "50%    1.075276e+09  6.200000e+02      12.000000      6.243800e+02   \n",
       "75%    1.610149e+09  4.076000e+03      56.000000      4.050000e+03   \n",
       "max    2.147476e+09  2.033899e+07  219382.000000      2.033899e+07   \n",
       "\n",
       "       usd_goal_real  \n",
       "count   3.786570e+05  \n",
       "mean    4.545425e+04  \n",
       "std     1.152956e+06  \n",
       "min     1.000000e-02  \n",
       "25%     2.000000e+03  \n",
       "50%     5.500000e+03  \n",
       "75%     1.550000e+04  \n",
       "max     1.663614e+08  "
      ]
     },
     "execution_count": 7,
     "metadata": {},
     "output_type": "execute_result"
    }
   ],
   "source": [
    "df1.describe()"
   ]
  },
  {
   "cell_type": "code",
   "execution_count": 39,
   "metadata": {},
   "outputs": [
    {
     "data": {
      "text/html": [
       "<div>\n",
       "<style scoped>\n",
       "    .dataframe tbody tr th:only-of-type {\n",
       "        vertical-align: middle;\n",
       "    }\n",
       "\n",
       "    .dataframe tbody tr th {\n",
       "        vertical-align: top;\n",
       "    }\n",
       "\n",
       "    .dataframe thead th {\n",
       "        text-align: right;\n",
       "    }\n",
       "</style>\n",
       "<table border=\"1\" class=\"dataframe\">\n",
       "  <thead>\n",
       "    <tr style=\"text-align: right;\">\n",
       "      <th></th>\n",
       "      <th>count</th>\n",
       "      <th>unique</th>\n",
       "      <th>top</th>\n",
       "      <th>freq</th>\n",
       "      <th>mean</th>\n",
       "      <th>std</th>\n",
       "      <th>min</th>\n",
       "      <th>25%</th>\n",
       "      <th>50%</th>\n",
       "      <th>75%</th>\n",
       "      <th>max</th>\n",
       "    </tr>\n",
       "  </thead>\n",
       "  <tbody>\n",
       "    <tr>\n",
       "      <th>ID</th>\n",
       "      <td>378657</td>\n",
       "      <td>NaN</td>\n",
       "      <td>NaN</td>\n",
       "      <td>NaN</td>\n",
       "      <td>1.07473e+09</td>\n",
       "      <td>6.19087e+08</td>\n",
       "      <td>5971</td>\n",
       "      <td>5.3825e+08</td>\n",
       "      <td>1.07528e+09</td>\n",
       "      <td>1.61015e+09</td>\n",
       "      <td>2.14748e+09</td>\n",
       "    </tr>\n",
       "    <tr>\n",
       "      <th>name</th>\n",
       "      <td>378657</td>\n",
       "      <td>375722</td>\n",
       "      <td>#NAME?</td>\n",
       "      <td>43</td>\n",
       "      <td>NaN</td>\n",
       "      <td>NaN</td>\n",
       "      <td>NaN</td>\n",
       "      <td>NaN</td>\n",
       "      <td>NaN</td>\n",
       "      <td>NaN</td>\n",
       "      <td>NaN</td>\n",
       "    </tr>\n",
       "    <tr>\n",
       "      <th>subcategory</th>\n",
       "      <td>378657</td>\n",
       "      <td>159</td>\n",
       "      <td>Product Design</td>\n",
       "      <td>22313</td>\n",
       "      <td>NaN</td>\n",
       "      <td>NaN</td>\n",
       "      <td>NaN</td>\n",
       "      <td>NaN</td>\n",
       "      <td>NaN</td>\n",
       "      <td>NaN</td>\n",
       "      <td>NaN</td>\n",
       "    </tr>\n",
       "    <tr>\n",
       "      <th>category</th>\n",
       "      <td>378657</td>\n",
       "      <td>15</td>\n",
       "      <td>Film &amp; Video</td>\n",
       "      <td>63584</td>\n",
       "      <td>NaN</td>\n",
       "      <td>NaN</td>\n",
       "      <td>NaN</td>\n",
       "      <td>NaN</td>\n",
       "      <td>NaN</td>\n",
       "      <td>NaN</td>\n",
       "      <td>NaN</td>\n",
       "    </tr>\n",
       "    <tr>\n",
       "      <th>deadline</th>\n",
       "      <td>378657</td>\n",
       "      <td>3164</td>\n",
       "      <td>08-08-2014</td>\n",
       "      <td>705</td>\n",
       "      <td>NaN</td>\n",
       "      <td>NaN</td>\n",
       "      <td>NaN</td>\n",
       "      <td>NaN</td>\n",
       "      <td>NaN</td>\n",
       "      <td>NaN</td>\n",
       "      <td>NaN</td>\n",
       "    </tr>\n",
       "    <tr>\n",
       "      <th>launched</th>\n",
       "      <td>378657</td>\n",
       "      <td>347031</td>\n",
       "      <td>20-06-2017 16:00</td>\n",
       "      <td>15</td>\n",
       "      <td>NaN</td>\n",
       "      <td>NaN</td>\n",
       "      <td>NaN</td>\n",
       "      <td>NaN</td>\n",
       "      <td>NaN</td>\n",
       "      <td>NaN</td>\n",
       "      <td>NaN</td>\n",
       "    </tr>\n",
       "    <tr>\n",
       "      <th>pledged</th>\n",
       "      <td>378657</td>\n",
       "      <td>NaN</td>\n",
       "      <td>NaN</td>\n",
       "      <td>NaN</td>\n",
       "      <td>9683.08</td>\n",
       "      <td>95636.5</td>\n",
       "      <td>0</td>\n",
       "      <td>30</td>\n",
       "      <td>620</td>\n",
       "      <td>4076</td>\n",
       "      <td>2.0339e+07</td>\n",
       "    </tr>\n",
       "    <tr>\n",
       "      <th>state</th>\n",
       "      <td>378657</td>\n",
       "      <td>6</td>\n",
       "      <td>failed</td>\n",
       "      <td>197716</td>\n",
       "      <td>NaN</td>\n",
       "      <td>NaN</td>\n",
       "      <td>NaN</td>\n",
       "      <td>NaN</td>\n",
       "      <td>NaN</td>\n",
       "      <td>NaN</td>\n",
       "      <td>NaN</td>\n",
       "    </tr>\n",
       "    <tr>\n",
       "      <th>backers</th>\n",
       "      <td>378657</td>\n",
       "      <td>NaN</td>\n",
       "      <td>NaN</td>\n",
       "      <td>NaN</td>\n",
       "      <td>105.619</td>\n",
       "      <td>907.19</td>\n",
       "      <td>0</td>\n",
       "      <td>2</td>\n",
       "      <td>12</td>\n",
       "      <td>56</td>\n",
       "      <td>219382</td>\n",
       "    </tr>\n",
       "    <tr>\n",
       "      <th>country</th>\n",
       "      <td>378657</td>\n",
       "      <td>23</td>\n",
       "      <td>US</td>\n",
       "      <td>292624</td>\n",
       "      <td>NaN</td>\n",
       "      <td>NaN</td>\n",
       "      <td>NaN</td>\n",
       "      <td>NaN</td>\n",
       "      <td>NaN</td>\n",
       "      <td>NaN</td>\n",
       "      <td>NaN</td>\n",
       "    </tr>\n",
       "    <tr>\n",
       "      <th>usd_pledged_real</th>\n",
       "      <td>378657</td>\n",
       "      <td>NaN</td>\n",
       "      <td>NaN</td>\n",
       "      <td>NaN</td>\n",
       "      <td>9059.02</td>\n",
       "      <td>90973.8</td>\n",
       "      <td>0</td>\n",
       "      <td>31</td>\n",
       "      <td>624.38</td>\n",
       "      <td>4050</td>\n",
       "      <td>2.0339e+07</td>\n",
       "    </tr>\n",
       "    <tr>\n",
       "      <th>usd_goal_real</th>\n",
       "      <td>378657</td>\n",
       "      <td>NaN</td>\n",
       "      <td>NaN</td>\n",
       "      <td>NaN</td>\n",
       "      <td>0.000273226</td>\n",
       "      <td>0.00693043</td>\n",
       "      <td>0</td>\n",
       "      <td>1.2022e-05</td>\n",
       "      <td>3.30605e-05</td>\n",
       "      <td>9.31706e-05</td>\n",
       "      <td>1</td>\n",
       "    </tr>\n",
       "    <tr>\n",
       "      <th>new_usd_goal_real</th>\n",
       "      <td>378657</td>\n",
       "      <td>NaN</td>\n",
       "      <td>NaN</td>\n",
       "      <td>NaN</td>\n",
       "      <td>0.000273226</td>\n",
       "      <td>0.00693043</td>\n",
       "      <td>0</td>\n",
       "      <td>1.2022e-05</td>\n",
       "      <td>3.30605e-05</td>\n",
       "      <td>9.31706e-05</td>\n",
       "      <td>1</td>\n",
       "    </tr>\n",
       "    <tr>\n",
       "      <th>goal_z_std</th>\n",
       "      <td>378657</td>\n",
       "      <td>NaN</td>\n",
       "      <td>NaN</td>\n",
       "      <td>NaN</td>\n",
       "      <td>6.86091e-16</td>\n",
       "      <td>1</td>\n",
       "      <td>-0.0394241</td>\n",
       "      <td>-0.0376895</td>\n",
       "      <td>-0.0346538</td>\n",
       "      <td>-0.0259804</td>\n",
       "      <td>144.252</td>\n",
       "    </tr>\n",
       "    <tr>\n",
       "      <th>launch_month</th>\n",
       "      <td>378657</td>\n",
       "      <td>NaN</td>\n",
       "      <td>NaN</td>\n",
       "      <td>NaN</td>\n",
       "      <td>6.39565</td>\n",
       "      <td>3.40524</td>\n",
       "      <td>1</td>\n",
       "      <td>3</td>\n",
       "      <td>6</td>\n",
       "      <td>9</td>\n",
       "      <td>12</td>\n",
       "    </tr>\n",
       "  </tbody>\n",
       "</table>\n",
       "</div>"
      ],
      "text/plain": [
       "                    count  unique               top    freq         mean  \\\n",
       "ID                 378657     NaN               NaN     NaN  1.07473e+09   \n",
       "name               378657  375722            #NAME?      43          NaN   \n",
       "subcategory        378657     159    Product Design   22313          NaN   \n",
       "category           378657      15      Film & Video   63584          NaN   \n",
       "deadline           378657    3164        08-08-2014     705          NaN   \n",
       "launched           378657  347031  20-06-2017 16:00      15          NaN   \n",
       "pledged            378657     NaN               NaN     NaN      9683.08   \n",
       "state              378657       6            failed  197716          NaN   \n",
       "backers            378657     NaN               NaN     NaN      105.619   \n",
       "country            378657      23                US  292624          NaN   \n",
       "usd_pledged_real   378657     NaN               NaN     NaN      9059.02   \n",
       "usd_goal_real      378657     NaN               NaN     NaN  0.000273226   \n",
       "new_usd_goal_real  378657     NaN               NaN     NaN  0.000273226   \n",
       "goal_z_std         378657     NaN               NaN     NaN  6.86091e-16   \n",
       "launch_month       378657     NaN               NaN     NaN      6.39565   \n",
       "\n",
       "                           std        min         25%          50%  \\\n",
       "ID                 6.19087e+08       5971  5.3825e+08  1.07528e+09   \n",
       "name                       NaN        NaN         NaN          NaN   \n",
       "subcategory                NaN        NaN         NaN          NaN   \n",
       "category                   NaN        NaN         NaN          NaN   \n",
       "deadline                   NaN        NaN         NaN          NaN   \n",
       "launched                   NaN        NaN         NaN          NaN   \n",
       "pledged                95636.5          0          30          620   \n",
       "state                      NaN        NaN         NaN          NaN   \n",
       "backers                 907.19          0           2           12   \n",
       "country                    NaN        NaN         NaN          NaN   \n",
       "usd_pledged_real       90973.8          0          31       624.38   \n",
       "usd_goal_real       0.00693043          0  1.2022e-05  3.30605e-05   \n",
       "new_usd_goal_real   0.00693043          0  1.2022e-05  3.30605e-05   \n",
       "goal_z_std                   1 -0.0394241  -0.0376895   -0.0346538   \n",
       "launch_month           3.40524          1           3            6   \n",
       "\n",
       "                           75%          max  \n",
       "ID                 1.61015e+09  2.14748e+09  \n",
       "name                       NaN          NaN  \n",
       "subcategory                NaN          NaN  \n",
       "category                   NaN          NaN  \n",
       "deadline                   NaN          NaN  \n",
       "launched                   NaN          NaN  \n",
       "pledged                   4076   2.0339e+07  \n",
       "state                      NaN          NaN  \n",
       "backers                     56       219382  \n",
       "country                    NaN          NaN  \n",
       "usd_pledged_real          4050   2.0339e+07  \n",
       "usd_goal_real      9.31706e-05            1  \n",
       "new_usd_goal_real  9.31706e-05            1  \n",
       "goal_z_std          -0.0259804      144.252  \n",
       "launch_month                 9           12  "
      ]
     },
     "execution_count": 39,
     "metadata": {},
     "output_type": "execute_result"
    }
   ],
   "source": [
    "df1.describe(include=\"all\").T"
   ]
  },
  {
   "cell_type": "markdown",
   "metadata": {},
   "source": [
    "### It seems like there are same outliers in the dataset\n",
    "\n",
    "**Pick some to investigate**\n",
    "- backers\n",
    "- usd_goal_real"
   ]
  },
  {
   "cell_type": "code",
   "execution_count": 8,
   "metadata": {},
   "outputs": [
    {
     "data": {
      "image/png": "[encoded data removed]",
      "text/plain": [
       "<Figure size 432x288 with 1 Axes>"
      ]
     },
     "metadata": {
      "needs_background": "light"
     },
     "output_type": "display_data"
    }
   ],
   "source": [
    "sns.boxplot(data=df1[\"backers\"])\n",
    "plt.show()"
   ]
  },
  {
   "cell_type": "markdown",
   "metadata": {},
   "source": [
    "- It seems there are many outliers in the backers. What to do about that depends on the object. Some of the things that can be done about that are below. \n",
    "\n",
    "\n",
    "\n",
    "**1. MinMaxScaling**"
   ]
  },
  {
   "cell_type": "code",
   "execution_count": 9,
   "metadata": {
    "scrolled": true
   },
   "outputs": [
    {
     "data": {
      "image/png": "[encoded data removed]",
      "text/plain": [
       "<Figure size 432x288 with 1 Axes>"
      ]
     },
     "metadata": {
      "needs_background": "light"
     },
     "output_type": "display_data"
    },
    {
     "data": {
      "image/png": "[encoded data removed]",
      "text/plain": [
       "<Figure size 432x288 with 1 Axes>"
      ]
     },
     "metadata": {
      "needs_background": "light"
     },
     "output_type": "display_data"
    },
    {
     "data": {
      "text/html": [
       "<div>\n",
       "<style scoped>\n",
       "    .dataframe tbody tr th:only-of-type {\n",
       "        vertical-align: middle;\n",
       "    }\n",
       "\n",
       "    .dataframe tbody tr th {\n",
       "        vertical-align: top;\n",
       "    }\n",
       "\n",
       "    .dataframe thead th {\n",
       "        text-align: right;\n",
       "    }\n",
       "</style>\n",
       "<table border=\"1\" class=\"dataframe\">\n",
       "  <thead>\n",
       "    <tr style=\"text-align: right;\">\n",
       "      <th></th>\n",
       "      <th>ID</th>\n",
       "      <th>name</th>\n",
       "      <th>subcategory</th>\n",
       "      <th>category</th>\n",
       "      <th>deadline</th>\n",
       "      <th>launched</th>\n",
       "      <th>pledged</th>\n",
       "      <th>state</th>\n",
       "      <th>backers</th>\n",
       "      <th>country</th>\n",
       "      <th>usd_pledged_real</th>\n",
       "      <th>usd_goal_real</th>\n",
       "      <th>new_usd_goal_real</th>\n",
       "    </tr>\n",
       "  </thead>\n",
       "  <tbody>\n",
       "    <tr>\n",
       "      <th>0</th>\n",
       "      <td>1000002330</td>\n",
       "      <td>The Songs of Adelaide &amp; Abullah</td>\n",
       "      <td>Poetry</td>\n",
       "      <td>Publishing</td>\n",
       "      <td>09-10-2015</td>\n",
       "      <td>11-08-2015 12:12</td>\n",
       "      <td>0.0</td>\n",
       "      <td>failed</td>\n",
       "      <td>0</td>\n",
       "      <td>GB</td>\n",
       "      <td>0.0</td>\n",
       "      <td>0.000009</td>\n",
       "      <td>0.000009</td>\n",
       "    </tr>\n",
       "    <tr>\n",
       "      <th>1</th>\n",
       "      <td>1000003930</td>\n",
       "      <td>Greeting From Earth: ZGAC Arts Capsule For ET</td>\n",
       "      <td>Narrative Film</td>\n",
       "      <td>Film &amp; Video</td>\n",
       "      <td>01-11-2017</td>\n",
       "      <td>02-09-2017 04:43</td>\n",
       "      <td>2421.0</td>\n",
       "      <td>failed</td>\n",
       "      <td>15</td>\n",
       "      <td>US</td>\n",
       "      <td>2421.0</td>\n",
       "      <td>0.000180</td>\n",
       "      <td>0.000180</td>\n",
       "    </tr>\n",
       "  </tbody>\n",
       "</table>\n",
       "</div>"
      ],
      "text/plain": [
       "           ID                                           name     subcategory  \\\n",
       "0  1000002330                The Songs of Adelaide & Abullah          Poetry   \n",
       "1  1000003930  Greeting From Earth: ZGAC Arts Capsule For ET  Narrative Film   \n",
       "\n",
       "       category    deadline          launched  pledged   state  backers  \\\n",
       "0    Publishing  09-10-2015  11-08-2015 12:12      0.0  failed        0   \n",
       "1  Film & Video  01-11-2017  02-09-2017 04:43   2421.0  failed       15   \n",
       "\n",
       "  country  usd_pledged_real  usd_goal_real  new_usd_goal_real  \n",
       "0      GB               0.0       0.000009           0.000009  \n",
       "1      US            2421.0       0.000180           0.000180  "
      ]
     },
     "execution_count": 9,
     "metadata": {},
     "output_type": "execute_result"
    }
   ],
   "source": [
    "from sklearn.preprocessing import StandardScaler, MinMaxScaler\n",
    "\n",
    "df1[\"usd_goal_real\"].hist()\n",
    "plt.title(\"Before\")\n",
    "plt.show()\n",
    "\n",
    "df1[[\"usd_goal_real\"]]= MinMaxScaler().fit_transform(df1[[\"usd_goal_real\"]])\n",
    "\n",
    "df1[\"usd_goal_real\"].hist()\n",
    "plt.title(\"After scaling\")\n",
    "plt.show()\n",
    "df1[\"new_usd_goal_real\"] = MinMaxScaler().fit_transform(df1[[\"usd_goal_real\"]])\n",
    "df1.head(2)"
   ]
  },
  {
   "cell_type": "markdown",
   "metadata": {},
   "source": [
    "- The data is still very skewed.\n",
    "\n",
    "**2. StandardScaler**"
   ]
  },
  {
   "cell_type": "code",
   "execution_count": 10,
   "metadata": {},
   "outputs": [
    {
     "data": {
      "image/png": "[encoded data removed]",
      "text/plain": [
       "<Figure size 432x288 with 1 Axes>"
      ]
     },
     "metadata": {
      "needs_background": "light"
     },
     "output_type": "display_data"
    },
    {
     "data": {
      "image/png": "[encoded data removed]",
      "text/plain": [
       "<Figure size 432x288 with 1 Axes>"
      ]
     },
     "metadata": {
      "needs_background": "light"
     },
     "output_type": "display_data"
    }
   ],
   "source": [
    "std_scaler = StandardScaler()\n",
    "\n",
    "df1['usd_goal_real'].hist()\n",
    "plt.title('goal before z transformation')\n",
    "plt.show()\n",
    "# fit_transform requires a DataFrame, not a Series, hence\n",
    "# the double brackets to keep df[['usd_goal_real']] as a 1 column \n",
    "# DataFrame rather than a Series, like if I did df['usd_goal_real']\n",
    "\n",
    "\n",
    "df1['goal_z_std'] = std_scaler.fit_transform(df1[['usd_goal_real']])\n",
    "df1['goal_z_std'].hist()\n",
    "plt.title('goal after z transformation')\n",
    "plt.show()\n",
    "# exact same shape since it's a linear transformation.\n",
    "#df.drop(['usd_goal_real'], axis=1, inplace=True) \n",
    "# Columns can be dropped if they are no longer needed, and it makes the dataset neater."
   ]
  },
  {
   "cell_type": "code",
   "execution_count": 11,
   "metadata": {
    "scrolled": true
   },
   "outputs": [
    {
     "data": {
      "text/html": [
       "<div>\n",
       "<style scoped>\n",
       "    .dataframe tbody tr th:only-of-type {\n",
       "        vertical-align: middle;\n",
       "    }\n",
       "\n",
       "    .dataframe tbody tr th {\n",
       "        vertical-align: top;\n",
       "    }\n",
       "\n",
       "    .dataframe thead th {\n",
       "        text-align: right;\n",
       "    }\n",
       "</style>\n",
       "<table border=\"1\" class=\"dataframe\">\n",
       "  <thead>\n",
       "    <tr style=\"text-align: right;\">\n",
       "      <th></th>\n",
       "      <th>ID</th>\n",
       "      <th>name</th>\n",
       "      <th>subcategory</th>\n",
       "      <th>category</th>\n",
       "      <th>deadline</th>\n",
       "      <th>launched</th>\n",
       "      <th>pledged</th>\n",
       "      <th>state</th>\n",
       "      <th>backers</th>\n",
       "      <th>country</th>\n",
       "      <th>usd_pledged_real</th>\n",
       "      <th>usd_goal_real</th>\n",
       "      <th>new_usd_goal_real</th>\n",
       "      <th>goal_z_std</th>\n",
       "    </tr>\n",
       "  </thead>\n",
       "  <tbody>\n",
       "    <tr>\n",
       "      <th>0</th>\n",
       "      <td>1000002330</td>\n",
       "      <td>The Songs of Adelaide &amp; Abullah</td>\n",
       "      <td>Poetry</td>\n",
       "      <td>Publishing</td>\n",
       "      <td>09-10-2015</td>\n",
       "      <td>11-08-2015 12:12</td>\n",
       "      <td>0.0</td>\n",
       "      <td>failed</td>\n",
       "      <td>0</td>\n",
       "      <td>GB</td>\n",
       "      <td>0.0</td>\n",
       "      <td>0.000009</td>\n",
       "      <td>0.000009</td>\n",
       "      <td>-0.038094</td>\n",
       "    </tr>\n",
       "    <tr>\n",
       "      <th>1</th>\n",
       "      <td>1000003930</td>\n",
       "      <td>Greeting From Earth: ZGAC Arts Capsule For ET</td>\n",
       "      <td>Narrative Film</td>\n",
       "      <td>Film &amp; Video</td>\n",
       "      <td>01-11-2017</td>\n",
       "      <td>02-09-2017 04:43</td>\n",
       "      <td>2421.0</td>\n",
       "      <td>failed</td>\n",
       "      <td>15</td>\n",
       "      <td>US</td>\n",
       "      <td>2421.0</td>\n",
       "      <td>0.000180</td>\n",
       "      <td>0.000180</td>\n",
       "      <td>-0.013404</td>\n",
       "    </tr>\n",
       "  </tbody>\n",
       "</table>\n",
       "</div>"
      ],
      "text/plain": [
       "           ID                                           name     subcategory  \\\n",
       "0  1000002330                The Songs of Adelaide & Abullah          Poetry   \n",
       "1  1000003930  Greeting From Earth: ZGAC Arts Capsule For ET  Narrative Film   \n",
       "\n",
       "       category    deadline          launched  pledged   state  backers  \\\n",
       "0    Publishing  09-10-2015  11-08-2015 12:12      0.0  failed        0   \n",
       "1  Film & Video  01-11-2017  02-09-2017 04:43   2421.0  failed       15   \n",
       "\n",
       "  country  usd_pledged_real  usd_goal_real  new_usd_goal_real  goal_z_std  \n",
       "0      GB               0.0       0.000009           0.000009   -0.038094  \n",
       "1      US            2421.0       0.000180           0.000180   -0.013404  "
      ]
     },
     "execution_count": 11,
     "metadata": {},
     "output_type": "execute_result"
    }
   ],
   "source": [
    "df1.head(2)"
   ]
  },
  {
   "cell_type": "markdown",
   "metadata": {},
   "source": [
    "**3. Log transformation**"
   ]
  },
  {
   "cell_type": "code",
   "execution_count": 40,
   "metadata": {},
   "outputs": [
    {
     "data": {
      "image/png": "[encoded data removed]",
      "text/plain": [
       "<Figure size 432x288 with 1 Axes>"
      ]
     },
     "metadata": {
      "needs_background": "light"
     },
     "output_type": "display_data"
    }
   ],
   "source": [
    "plt.hist(np.log(df1[\"usd_goal_real\"]+1),20) #+1 for the zero values\n",
    "plt.show()"
   ]
  },
  {
   "cell_type": "markdown",
   "metadata": {},
   "source": [
    "- The data is still very much skewed, and the transformations did not reduce the it. Plotting a frequency distribution reveals an interesting trend."
   ]
  },
  {
   "cell_type": "code",
   "execution_count": 51,
   "metadata": {},
   "outputs": [
    {
     "data": {
      "text/plain": [
       "<matplotlib.axes._subplots.AxesSubplot at 0x1ffe7c82e50>"
      ]
     },
     "execution_count": 51,
     "metadata": {},
     "output_type": "execute_result"
    },
    {
     "data": {
      "image/png": "[encoded data removed]",
      "text/plain": [
       "<Figure size 432x288 with 1 Axes>"
      ]
     },
     "metadata": {
      "needs_background": "light"
     },
     "output_type": "display_data"
    }
   ],
   "source": [
    "sns.distplot(np.log(df['usd_goal_real']),50)"
   ]
  },
  {
   "cell_type": "markdown",
   "metadata": {},
   "source": [
    "### Checking what months against number of projects launched.\n",
    "\n",
    "- getting the months from the dates column"
   ]
  },
  {
   "cell_type": "code",
   "execution_count": 35,
   "metadata": {},
   "outputs": [
    {
     "data": {
      "text/plain": [
       "7     34477\n",
       "1     34346\n",
       "10    33409\n",
       "3     32837\n",
       "11    32135\n",
       "8     31619\n",
       "5     31573\n",
       "9     31538\n",
       "6     31381\n",
       "4     31038\n",
       "2     29876\n",
       "12    24428\n",
       "Name: launch_month, dtype: int64"
      ]
     },
     "execution_count": 35,
     "metadata": {},
     "output_type": "execute_result"
    }
   ],
   "source": [
    "# project_months = pd.to_datetime(df1[\"launched\"]).dt.month\n",
    "# project_months.value_counts()\n",
    "\n",
    "# or\n",
    "df1['launch_month'] = pd.to_datetime(df1['launched'])\n",
    "df1['launch_month'] = df1['launch_month'] .dt.month # adding in a feature that's just the year\n",
    "\n",
    "df1['launch_month'] .value_counts().sort_values(ascending = False)"
   ]
  },
  {
   "cell_type": "code",
   "execution_count": 14,
   "metadata": {
    "scrolled": true
   },
   "outputs": [
    {
     "data": {
      "text/html": [
       "<div>\n",
       "<style scoped>\n",
       "    .dataframe tbody tr th:only-of-type {\n",
       "        vertical-align: middle;\n",
       "    }\n",
       "\n",
       "    .dataframe tbody tr th {\n",
       "        vertical-align: top;\n",
       "    }\n",
       "\n",
       "    .dataframe thead th {\n",
       "        text-align: right;\n",
       "    }\n",
       "</style>\n",
       "<table border=\"1\" class=\"dataframe\">\n",
       "  <thead>\n",
       "    <tr style=\"text-align: right;\">\n",
       "      <th></th>\n",
       "      <th>ID</th>\n",
       "      <th>name</th>\n",
       "      <th>subcategory</th>\n",
       "      <th>category</th>\n",
       "      <th>deadline</th>\n",
       "      <th>launched</th>\n",
       "      <th>pledged</th>\n",
       "      <th>state</th>\n",
       "      <th>backers</th>\n",
       "      <th>country</th>\n",
       "      <th>usd_pledged_real</th>\n",
       "      <th>usd_goal_real</th>\n",
       "      <th>new_usd_goal_real</th>\n",
       "      <th>goal_z_std</th>\n",
       "    </tr>\n",
       "  </thead>\n",
       "  <tbody>\n",
       "    <tr>\n",
       "      <th>0</th>\n",
       "      <td>1000002330</td>\n",
       "      <td>The Songs of Adelaide &amp; Abullah</td>\n",
       "      <td>Poetry</td>\n",
       "      <td>Publishing</td>\n",
       "      <td>09-10-2015</td>\n",
       "      <td>11-08-2015 12:12</td>\n",
       "      <td>0.0</td>\n",
       "      <td>failed</td>\n",
       "      <td>0</td>\n",
       "      <td>GB</td>\n",
       "      <td>0.0</td>\n",
       "      <td>0.000009</td>\n",
       "      <td>0.000009</td>\n",
       "      <td>-0.038094</td>\n",
       "    </tr>\n",
       "    <tr>\n",
       "      <th>1</th>\n",
       "      <td>1000003930</td>\n",
       "      <td>Greeting From Earth: ZGAC Arts Capsule For ET</td>\n",
       "      <td>Narrative Film</td>\n",
       "      <td>Film &amp; Video</td>\n",
       "      <td>01-11-2017</td>\n",
       "      <td>02-09-2017 04:43</td>\n",
       "      <td>2421.0</td>\n",
       "      <td>failed</td>\n",
       "      <td>15</td>\n",
       "      <td>US</td>\n",
       "      <td>2421.0</td>\n",
       "      <td>0.000180</td>\n",
       "      <td>0.000180</td>\n",
       "      <td>-0.013404</td>\n",
       "    </tr>\n",
       "    <tr>\n",
       "      <th>2</th>\n",
       "      <td>1000004038</td>\n",
       "      <td>Where is Hank?</td>\n",
       "      <td>Narrative Film</td>\n",
       "      <td>Film &amp; Video</td>\n",
       "      <td>26-02-2013</td>\n",
       "      <td>12-01-2013 00:20</td>\n",
       "      <td>220.0</td>\n",
       "      <td>failed</td>\n",
       "      <td>3</td>\n",
       "      <td>US</td>\n",
       "      <td>220.0</td>\n",
       "      <td>0.000270</td>\n",
       "      <td>0.000270</td>\n",
       "      <td>-0.000394</td>\n",
       "    </tr>\n",
       "  </tbody>\n",
       "</table>\n",
       "</div>"
      ],
      "text/plain": [
       "           ID                                           name     subcategory  \\\n",
       "0  1000002330                The Songs of Adelaide & Abullah          Poetry   \n",
       "1  1000003930  Greeting From Earth: ZGAC Arts Capsule For ET  Narrative Film   \n",
       "2  1000004038                                 Where is Hank?  Narrative Film   \n",
       "\n",
       "       category    deadline          launched  pledged   state  backers  \\\n",
       "0    Publishing  09-10-2015  11-08-2015 12:12      0.0  failed        0   \n",
       "1  Film & Video  01-11-2017  02-09-2017 04:43   2421.0  failed       15   \n",
       "2  Film & Video  26-02-2013  12-01-2013 00:20    220.0  failed        3   \n",
       "\n",
       "  country  usd_pledged_real  usd_goal_real  new_usd_goal_real  goal_z_std  \n",
       "0      GB               0.0       0.000009           0.000009   -0.038094  \n",
       "1      US            2421.0       0.000180           0.000180   -0.013404  \n",
       "2      US             220.0       0.000270           0.000270   -0.000394  "
      ]
     },
     "execution_count": 14,
     "metadata": {},
     "output_type": "execute_result"
    }
   ],
   "source": [
    "df1.head(3)"
   ]
  },
  {
   "cell_type": "markdown",
   "metadata": {},
   "source": [
    "### Checking what categories have raised the most money\n",
    "\n",
    "- Two ways of going about it. \n",
    "\n",
    "- i) Checking each category\n",
    "- ii) Checking all categories at once, and sorting them"
   ]
  },
  {
   "cell_type": "code",
   "execution_count": 15,
   "metadata": {},
   "outputs": [
    {
     "data": {
      "text/plain": [
       "category\n",
       "Games    21865.788251\n",
       "Name: pledged, dtype: float64"
      ]
     },
     "execution_count": 15,
     "metadata": {},
     "output_type": "execute_result"
    }
   ],
   "source": [
    "proj = df1[df1.category== 'Games']\n",
    "proj.groupby('category')['pledged'].mean()"
   ]
  },
  {
   "cell_type": "code",
   "execution_count": 16,
   "metadata": {},
   "outputs": [
    {
     "data": {
      "text/plain": [
       "category\n",
       "Film & Video    6362.832348\n",
       "Name: pledged, dtype: float64"
      ]
     },
     "execution_count": 16,
     "metadata": {},
     "output_type": "execute_result"
    }
   ],
   "source": [
    "proj2 = df1[df1.category== 'Film & Video']\n",
    "proj2.groupby('category')['pledged'].mean()"
   ]
  },
  {
   "cell_type": "code",
   "execution_count": 17,
   "metadata": {},
   "outputs": [
    {
     "data": {
      "text/plain": [
       "category\n",
       "Technology    22586.164814\n",
       "Name: pledged, dtype: float64"
      ]
     },
     "execution_count": 17,
     "metadata": {},
     "output_type": "execute_result"
    }
   ],
   "source": [
    "proj3 = df1[df1.category== 'Technology']\n",
    "proj3.groupby('category')['pledged'].mean()"
   ]
  },
  {
   "cell_type": "code",
   "execution_count": 18,
   "metadata": {},
   "outputs": [
    {
     "data": {
      "text/plain": [
       "category\n",
       "Design    27120.653196\n",
       "Name: pledged, dtype: float64"
      ]
     },
     "execution_count": 18,
     "metadata": {},
     "output_type": "execute_result"
    }
   ],
   "source": [
    "proj4 = df1[df1.category== 'Design']\n",
    "proj4.groupby('category')['pledged'].mean()"
   ]
  },
  {
   "cell_type": "markdown",
   "metadata": {},
   "source": [
    "**More efficient approach**"
   ]
  },
  {
   "cell_type": "code",
   "execution_count": 36,
   "metadata": {},
   "outputs": [
    {
     "data": {
      "text/html": [
       "<div>\n",
       "<style scoped>\n",
       "    .dataframe tbody tr th:only-of-type {\n",
       "        vertical-align: middle;\n",
       "    }\n",
       "\n",
       "    .dataframe tbody tr th {\n",
       "        vertical-align: top;\n",
       "    }\n",
       "\n",
       "    .dataframe thead th {\n",
       "        text-align: right;\n",
       "    }\n",
       "</style>\n",
       "<table border=\"1\" class=\"dataframe\">\n",
       "  <thead>\n",
       "    <tr style=\"text-align: right;\">\n",
       "      <th></th>\n",
       "      <th>ID</th>\n",
       "      <th>pledged</th>\n",
       "      <th>backers</th>\n",
       "      <th>usd_pledged_real</th>\n",
       "      <th>usd_goal_real</th>\n",
       "      <th>new_usd_goal_real</th>\n",
       "      <th>goal_z_std</th>\n",
       "      <th>launch_month</th>\n",
       "    </tr>\n",
       "    <tr>\n",
       "      <th>category</th>\n",
       "      <th></th>\n",
       "      <th></th>\n",
       "      <th></th>\n",
       "      <th></th>\n",
       "      <th></th>\n",
       "      <th></th>\n",
       "      <th></th>\n",
       "      <th></th>\n",
       "    </tr>\n",
       "  </thead>\n",
       "  <tbody>\n",
       "    <tr>\n",
       "      <th>Design</th>\n",
       "      <td>1.078315e+09</td>\n",
       "      <td>27120.653196</td>\n",
       "      <td>241.307659</td>\n",
       "      <td>24417.846732</td>\n",
       "      <td>0.000252</td>\n",
       "      <td>0.000252</td>\n",
       "      <td>-0.003106</td>\n",
       "      <td>6.537131</td>\n",
       "    </tr>\n",
       "    <tr>\n",
       "      <th>Technology</th>\n",
       "      <td>1.071495e+09</td>\n",
       "      <td>22586.164814</td>\n",
       "      <td>164.466609</td>\n",
       "      <td>21151.171165</td>\n",
       "      <td>0.000615</td>\n",
       "      <td>0.000615</td>\n",
       "      <td>0.049294</td>\n",
       "      <td>6.532193</td>\n",
       "    </tr>\n",
       "    <tr>\n",
       "      <th>Games</th>\n",
       "      <td>1.072141e+09</td>\n",
       "      <td>21865.788251</td>\n",
       "      <td>321.794408</td>\n",
       "      <td>21042.491442</td>\n",
       "      <td>0.000270</td>\n",
       "      <td>0.000270</td>\n",
       "      <td>-0.000459</td>\n",
       "      <td>6.367641</td>\n",
       "    </tr>\n",
       "    <tr>\n",
       "      <th>Comics</th>\n",
       "      <td>1.063611e+09</td>\n",
       "      <td>6899.311189</td>\n",
       "      <td>134.771236</td>\n",
       "      <td>6610.443828</td>\n",
       "      <td>0.000118</td>\n",
       "      <td>0.000118</td>\n",
       "      <td>-0.022449</td>\n",
       "      <td>6.191885</td>\n",
       "    </tr>\n",
       "    <tr>\n",
       "      <th>Film &amp; Video</th>\n",
       "      <td>1.074955e+09</td>\n",
       "      <td>6362.832348</td>\n",
       "      <td>66.016230</td>\n",
       "      <td>6158.073703</td>\n",
       "      <td>0.000497</td>\n",
       "      <td>0.000497</td>\n",
       "      <td>0.032238</td>\n",
       "      <td>6.338670</td>\n",
       "    </tr>\n",
       "    <tr>\n",
       "      <th>Fashion</th>\n",
       "      <td>1.069690e+09</td>\n",
       "      <td>6549.031814</td>\n",
       "      <td>61.447800</td>\n",
       "      <td>5712.450839</td>\n",
       "      <td>0.000135</td>\n",
       "      <td>0.000135</td>\n",
       "      <td>-0.019985</td>\n",
       "      <td>6.508327</td>\n",
       "    </tr>\n",
       "    <tr>\n",
       "      <th>Food</th>\n",
       "      <td>1.081894e+09</td>\n",
       "      <td>5340.163268</td>\n",
       "      <td>54.172466</td>\n",
       "      <td>5113.669716</td>\n",
       "      <td>0.000295</td>\n",
       "      <td>0.000295</td>\n",
       "      <td>0.003110</td>\n",
       "      <td>6.491139</td>\n",
       "    </tr>\n",
       "    <tr>\n",
       "      <th>Theater</th>\n",
       "      <td>1.068349e+09</td>\n",
       "      <td>4097.224679</td>\n",
       "      <td>47.057271</td>\n",
       "      <td>4005.918099</td>\n",
       "      <td>0.000163</td>\n",
       "      <td>0.000163</td>\n",
       "      <td>-0.015929</td>\n",
       "      <td>6.184459</td>\n",
       "    </tr>\n",
       "    <tr>\n",
       "      <th>Music</th>\n",
       "      <td>1.074995e+09</td>\n",
       "      <td>3992.735602</td>\n",
       "      <td>52.168323</td>\n",
       "      <td>3858.367608</td>\n",
       "      <td>0.000092</td>\n",
       "      <td>0.000092</td>\n",
       "      <td>-0.026091</td>\n",
       "      <td>6.318156</td>\n",
       "    </tr>\n",
       "    <tr>\n",
       "      <th>Photography</th>\n",
       "      <td>1.071581e+09</td>\n",
       "      <td>3664.646577</td>\n",
       "      <td>39.714074</td>\n",
       "      <td>3571.909322</td>\n",
       "      <td>0.000074</td>\n",
       "      <td>0.000074</td>\n",
       "      <td>-0.028785</td>\n",
       "      <td>6.443826</td>\n",
       "    </tr>\n",
       "    <tr>\n",
       "      <th>Dance</th>\n",
       "      <td>1.075450e+09</td>\n",
       "      <td>3690.798684</td>\n",
       "      <td>42.801221</td>\n",
       "      <td>3452.946356</td>\n",
       "      <td>0.000058</td>\n",
       "      <td>0.000058</td>\n",
       "      <td>-0.031108</td>\n",
       "      <td>6.307059</td>\n",
       "    </tr>\n",
       "    <tr>\n",
       "      <th>Publishing</th>\n",
       "      <td>1.077086e+09</td>\n",
       "      <td>3638.716374</td>\n",
       "      <td>55.966018</td>\n",
       "      <td>3349.951931</td>\n",
       "      <td>0.000149</td>\n",
       "      <td>0.000149</td>\n",
       "      <td>-0.017916</td>\n",
       "      <td>6.385715</td>\n",
       "    </tr>\n",
       "    <tr>\n",
       "      <th>Art</th>\n",
       "      <td>1.077798e+09</td>\n",
       "      <td>3607.090354</td>\n",
       "      <td>42.206415</td>\n",
       "      <td>3221.093567</td>\n",
       "      <td>0.000236</td>\n",
       "      <td>0.000236</td>\n",
       "      <td>-0.005426</td>\n",
       "      <td>6.370276</td>\n",
       "    </tr>\n",
       "    <tr>\n",
       "      <th>Journalism</th>\n",
       "      <td>1.076352e+09</td>\n",
       "      <td>3218.085216</td>\n",
       "      <td>38.294637</td>\n",
       "      <td>2615.702568</td>\n",
       "      <td>0.000517</td>\n",
       "      <td>0.000517</td>\n",
       "      <td>0.035170</td>\n",
       "      <td>6.408412</td>\n",
       "    </tr>\n",
       "    <tr>\n",
       "      <th>Crafts</th>\n",
       "      <td>1.078527e+09</td>\n",
       "      <td>2016.153947</td>\n",
       "      <td>27.283687</td>\n",
       "      <td>1632.907282</td>\n",
       "      <td>0.000063</td>\n",
       "      <td>0.000063</td>\n",
       "      <td>-0.030374</td>\n",
       "      <td>6.439210</td>\n",
       "    </tr>\n",
       "  </tbody>\n",
       "</table>\n",
       "</div>"
      ],
      "text/plain": [
       "                        ID       pledged     backers  usd_pledged_real  \\\n",
       "category                                                                 \n",
       "Design        1.078315e+09  27120.653196  241.307659      24417.846732   \n",
       "Technology    1.071495e+09  22586.164814  164.466609      21151.171165   \n",
       "Games         1.072141e+09  21865.788251  321.794408      21042.491442   \n",
       "Comics        1.063611e+09   6899.311189  134.771236       6610.443828   \n",
       "Film & Video  1.074955e+09   6362.832348   66.016230       6158.073703   \n",
       "Fashion       1.069690e+09   6549.031814   61.447800       5712.450839   \n",
       "Food          1.081894e+09   5340.163268   54.172466       5113.669716   \n",
       "Theater       1.068349e+09   4097.224679   47.057271       4005.918099   \n",
       "Music         1.074995e+09   3992.735602   52.168323       3858.367608   \n",
       "Photography   1.071581e+09   3664.646577   39.714074       3571.909322   \n",
       "Dance         1.075450e+09   3690.798684   42.801221       3452.946356   \n",
       "Publishing    1.077086e+09   3638.716374   55.966018       3349.951931   \n",
       "Art           1.077798e+09   3607.090354   42.206415       3221.093567   \n",
       "Journalism    1.076352e+09   3218.085216   38.294637       2615.702568   \n",
       "Crafts        1.078527e+09   2016.153947   27.283687       1632.907282   \n",
       "\n",
       "              usd_goal_real  new_usd_goal_real  goal_z_std  launch_month  \n",
       "category                                                                  \n",
       "Design             0.000252           0.000252   -0.003106      6.537131  \n",
       "Technology         0.000615           0.000615    0.049294      6.532193  \n",
       "Games              0.000270           0.000270   -0.000459      6.367641  \n",
       "Comics             0.000118           0.000118   -0.022449      6.191885  \n",
       "Film & Video       0.000497           0.000497    0.032238      6.338670  \n",
       "Fashion            0.000135           0.000135   -0.019985      6.508327  \n",
       "Food               0.000295           0.000295    0.003110      6.491139  \n",
       "Theater            0.000163           0.000163   -0.015929      6.184459  \n",
       "Music              0.000092           0.000092   -0.026091      6.318156  \n",
       "Photography        0.000074           0.000074   -0.028785      6.443826  \n",
       "Dance              0.000058           0.000058   -0.031108      6.307059  \n",
       "Publishing         0.000149           0.000149   -0.017916      6.385715  \n",
       "Art                0.000236           0.000236   -0.005426      6.370276  \n",
       "Journalism         0.000517           0.000517    0.035170      6.408412  \n",
       "Crafts             0.000063           0.000063   -0.030374      6.439210  "
      ]
     },
     "execution_count": 36,
     "metadata": {},
     "output_type": "execute_result"
    }
   ],
   "source": [
    "df1.groupby(['category']).mean().sort_values(by = 'usd_pledged_real', ascending=False)"
   ]
  },
  {
   "cell_type": "code",
   "execution_count": 22,
   "metadata": {},
   "outputs": [
    {
     "data": {
      "text/plain": [
       "False"
      ]
     },
     "execution_count": 22,
     "metadata": {},
     "output_type": "execute_result"
    }
   ],
   "source": [
    "df1['category'].is_unique  #Checking for duplicates in the column. There are duplicates"
   ]
  },
  {
   "cell_type": "code",
   "execution_count": null,
   "metadata": {},
   "outputs": [],
   "source": []
  }
 ],
 "metadata": {
  "kernelspec": {
   "display_name": "Python 3",
   "language": "python",
   "name": "python3"
  },
  "language_info": {
   "codemirror_mode": {
    "name": "ipython",
    "version": 3
   },
   "file_extension": ".py",
   "mimetype": "text/x-python",
   "name": "python",
   "nbconvert_exporter": "python",
   "pygments_lexer": "ipython3",
   "version": "3.8.3"
  }
 },
 "nbformat": 4,
 "nbformat_minor": 4
}
